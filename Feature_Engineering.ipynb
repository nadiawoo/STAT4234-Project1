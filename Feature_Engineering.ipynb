{
  "nbformat": 4,
  "nbformat_minor": 0,
  "metadata": {
    "colab": {
      "provenance": []
    },
    "kernelspec": {
      "name": "python3",
      "display_name": "Python 3"
    },
    "language_info": {
      "name": "python"
    }
  },
  "cells": [
    {
      "cell_type": "code",
      "execution_count": 2,
      "metadata": {
        "colab": {
          "base_uri": "https://localhost:8080/",
          "height": 74
        },
        "id": "Ct4ctfAkw53X",
        "outputId": "6884dd73-bbfd-4131-af79-e677af56802c"
      },
      "outputs": [
        {
          "output_type": "display_data",
          "data": {
            "text/plain": [
              "<IPython.core.display.HTML object>"
            ],
            "text/html": [
              "\n",
              "     <input type=\"file\" id=\"files-e816b572-1d48-4c7e-b07f-7f5449f7b0a4\" name=\"files[]\" multiple disabled\n",
              "        style=\"border:none\" />\n",
              "     <output id=\"result-e816b572-1d48-4c7e-b07f-7f5449f7b0a4\">\n",
              "      Upload widget is only available when the cell has been executed in the\n",
              "      current browser session. Please rerun this cell to enable.\n",
              "      </output>\n",
              "      <script>// Copyright 2017 Google LLC\n",
              "//\n",
              "// Licensed under the Apache License, Version 2.0 (the \"License\");\n",
              "// you may not use this file except in compliance with the License.\n",
              "// You may obtain a copy of the License at\n",
              "//\n",
              "//      http://www.apache.org/licenses/LICENSE-2.0\n",
              "//\n",
              "// Unless required by applicable law or agreed to in writing, software\n",
              "// distributed under the License is distributed on an \"AS IS\" BASIS,\n",
              "// WITHOUT WARRANTIES OR CONDITIONS OF ANY KIND, either express or implied.\n",
              "// See the License for the specific language governing permissions and\n",
              "// limitations under the License.\n",
              "\n",
              "/**\n",
              " * @fileoverview Helpers for google.colab Python module.\n",
              " */\n",
              "(function(scope) {\n",
              "function span(text, styleAttributes = {}) {\n",
              "  const element = document.createElement('span');\n",
              "  element.textContent = text;\n",
              "  for (const key of Object.keys(styleAttributes)) {\n",
              "    element.style[key] = styleAttributes[key];\n",
              "  }\n",
              "  return element;\n",
              "}\n",
              "\n",
              "// Max number of bytes which will be uploaded at a time.\n",
              "const MAX_PAYLOAD_SIZE = 100 * 1024;\n",
              "\n",
              "function _uploadFiles(inputId, outputId) {\n",
              "  const steps = uploadFilesStep(inputId, outputId);\n",
              "  const outputElement = document.getElementById(outputId);\n",
              "  // Cache steps on the outputElement to make it available for the next call\n",
              "  // to uploadFilesContinue from Python.\n",
              "  outputElement.steps = steps;\n",
              "\n",
              "  return _uploadFilesContinue(outputId);\n",
              "}\n",
              "\n",
              "// This is roughly an async generator (not supported in the browser yet),\n",
              "// where there are multiple asynchronous steps and the Python side is going\n",
              "// to poll for completion of each step.\n",
              "// This uses a Promise to block the python side on completion of each step,\n",
              "// then passes the result of the previous step as the input to the next step.\n",
              "function _uploadFilesContinue(outputId) {\n",
              "  const outputElement = document.getElementById(outputId);\n",
              "  const steps = outputElement.steps;\n",
              "\n",
              "  const next = steps.next(outputElement.lastPromiseValue);\n",
              "  return Promise.resolve(next.value.promise).then((value) => {\n",
              "    // Cache the last promise value to make it available to the next\n",
              "    // step of the generator.\n",
              "    outputElement.lastPromiseValue = value;\n",
              "    return next.value.response;\n",
              "  });\n",
              "}\n",
              "\n",
              "/**\n",
              " * Generator function which is called between each async step of the upload\n",
              " * process.\n",
              " * @param {string} inputId Element ID of the input file picker element.\n",
              " * @param {string} outputId Element ID of the output display.\n",
              " * @return {!Iterable<!Object>} Iterable of next steps.\n",
              " */\n",
              "function* uploadFilesStep(inputId, outputId) {\n",
              "  const inputElement = document.getElementById(inputId);\n",
              "  inputElement.disabled = false;\n",
              "\n",
              "  const outputElement = document.getElementById(outputId);\n",
              "  outputElement.innerHTML = '';\n",
              "\n",
              "  const pickedPromise = new Promise((resolve) => {\n",
              "    inputElement.addEventListener('change', (e) => {\n",
              "      resolve(e.target.files);\n",
              "    });\n",
              "  });\n",
              "\n",
              "  const cancel = document.createElement('button');\n",
              "  inputElement.parentElement.appendChild(cancel);\n",
              "  cancel.textContent = 'Cancel upload';\n",
              "  const cancelPromise = new Promise((resolve) => {\n",
              "    cancel.onclick = () => {\n",
              "      resolve(null);\n",
              "    };\n",
              "  });\n",
              "\n",
              "  // Wait for the user to pick the files.\n",
              "  const files = yield {\n",
              "    promise: Promise.race([pickedPromise, cancelPromise]),\n",
              "    response: {\n",
              "      action: 'starting',\n",
              "    }\n",
              "  };\n",
              "\n",
              "  cancel.remove();\n",
              "\n",
              "  // Disable the input element since further picks are not allowed.\n",
              "  inputElement.disabled = true;\n",
              "\n",
              "  if (!files) {\n",
              "    return {\n",
              "      response: {\n",
              "        action: 'complete',\n",
              "      }\n",
              "    };\n",
              "  }\n",
              "\n",
              "  for (const file of files) {\n",
              "    const li = document.createElement('li');\n",
              "    li.append(span(file.name, {fontWeight: 'bold'}));\n",
              "    li.append(span(\n",
              "        `(${file.type || 'n/a'}) - ${file.size} bytes, ` +\n",
              "        `last modified: ${\n",
              "            file.lastModifiedDate ? file.lastModifiedDate.toLocaleDateString() :\n",
              "                                    'n/a'} - `));\n",
              "    const percent = span('0% done');\n",
              "    li.appendChild(percent);\n",
              "\n",
              "    outputElement.appendChild(li);\n",
              "\n",
              "    const fileDataPromise = new Promise((resolve) => {\n",
              "      const reader = new FileReader();\n",
              "      reader.onload = (e) => {\n",
              "        resolve(e.target.result);\n",
              "      };\n",
              "      reader.readAsArrayBuffer(file);\n",
              "    });\n",
              "    // Wait for the data to be ready.\n",
              "    let fileData = yield {\n",
              "      promise: fileDataPromise,\n",
              "      response: {\n",
              "        action: 'continue',\n",
              "      }\n",
              "    };\n",
              "\n",
              "    // Use a chunked sending to avoid message size limits. See b/62115660.\n",
              "    let position = 0;\n",
              "    do {\n",
              "      const length = Math.min(fileData.byteLength - position, MAX_PAYLOAD_SIZE);\n",
              "      const chunk = new Uint8Array(fileData, position, length);\n",
              "      position += length;\n",
              "\n",
              "      const base64 = btoa(String.fromCharCode.apply(null, chunk));\n",
              "      yield {\n",
              "        response: {\n",
              "          action: 'append',\n",
              "          file: file.name,\n",
              "          data: base64,\n",
              "        },\n",
              "      };\n",
              "\n",
              "      let percentDone = fileData.byteLength === 0 ?\n",
              "          100 :\n",
              "          Math.round((position / fileData.byteLength) * 100);\n",
              "      percent.textContent = `${percentDone}% done`;\n",
              "\n",
              "    } while (position < fileData.byteLength);\n",
              "  }\n",
              "\n",
              "  // All done.\n",
              "  yield {\n",
              "    response: {\n",
              "      action: 'complete',\n",
              "    }\n",
              "  };\n",
              "}\n",
              "\n",
              "scope.google = scope.google || {};\n",
              "scope.google.colab = scope.google.colab || {};\n",
              "scope.google.colab._files = {\n",
              "  _uploadFiles,\n",
              "  _uploadFilesContinue,\n",
              "};\n",
              "})(self);\n",
              "</script> "
            ]
          },
          "metadata": {}
        },
        {
          "output_type": "stream",
          "name": "stdout",
          "text": [
            "Saving spotify_df_merged.csv to spotify_df_merged.csv\n"
          ]
        }
      ],
      "source": [
        "from google.colab import files\n",
        "uploaded = files.upload()"
      ]
    },
    {
      "cell_type": "code",
      "source": [
        "# Converting into a data frame\n",
        "import pandas as pd\n",
        "\n",
        "df = pd.read_csv(\"spotify_df_merged.csv\")\n",
        "\n",
        "# Checking data structure\n",
        "print(df.head())"
      ],
      "metadata": {
        "colab": {
          "base_uri": "https://localhost:8080/"
        },
        "id": "H6uYdybgxQoK",
        "outputId": "3229edc3-62d1-42a6-9a0a-c436163975c9"
      },
      "execution_count": 33,
      "outputs": [
        {
          "output_type": "stream",
          "name": "stdout",
          "text": [
            "                       id                   name                  album  \\\n",
            "0  7lmeHLHBe4nmXzuXc0HDjk                Testify                Testify   \n",
            "1  1wsRitfRRtWyEapl0q22o8        Guerrilla Radio        Guerrilla Radio   \n",
            "2  1hR0fIFK2qRG3f3RF70pb7       Calm Like a Bomb       Calm Like a Bomb   \n",
            "3  2lbASgTSoDO7MTuLAXlTW0              Mic Check              Mic Check   \n",
            "4  1MQTmpYOZ6fcMQc56Hdo7T  Sleep Now In the Fire  Sleep Now In the Fire   \n",
            "\n",
            "                 album_id                       artists  \\\n",
            "0  2eia0myWFgoHuttJytCxgX  ['Rage Against The Machine']   \n",
            "1  2eia0myWFgoHuttJytCxgX  ['Rage Against The Machine']   \n",
            "2  2eia0myWFgoHuttJytCxgX  ['Rage Against The Machine']   \n",
            "3  2eia0myWFgoHuttJytCxgX  ['Rage Against The Machine']   \n",
            "4  2eia0myWFgoHuttJytCxgX  ['Rage Against The Machine']   \n",
            "\n",
            "                   artist_ids  track_number  disc_number  explicit  \\\n",
            "0  ['2d0hyoQ5ynDBnkvAbJKORj']             1            1     False   \n",
            "1  ['2d0hyoQ5ynDBnkvAbJKORj']             2            1      True   \n",
            "2  ['2d0hyoQ5ynDBnkvAbJKORj']             3            1     False   \n",
            "3  ['2d0hyoQ5ynDBnkvAbJKORj']             4            1      True   \n",
            "4  ['2d0hyoQ5ynDBnkvAbJKORj']             5            1     False   \n",
            "\n",
            "   danceability  ...  valence    tempo  duration_ms  time_signature  year  \\\n",
            "0         0.470  ...    0.503  117.906       210133             4.0  1999   \n",
            "1         0.599  ...    0.489  103.680       206200             4.0  1999   \n",
            "2         0.315  ...    0.370  149.749       298893             4.0  1999   \n",
            "3         0.440  ...    0.574   96.752       213640             4.0  1999   \n",
            "4         0.426  ...    0.539  127.059       205600             4.0  1999   \n",
            "\n",
            "   release_date  release_date_parsed  duration_min  total_grammy_awards  \\\n",
            "0    1999-11-02           1999-11-02      3.502217                  0.0   \n",
            "1    1999-11-02           1999-11-02      3.436667                  0.0   \n",
            "2    1999-11-02           1999-11-02      4.981550                  0.0   \n",
            "3    1999-11-02           1999-11-02      3.560667                  0.0   \n",
            "4    1999-11-02           1999-11-02      3.426667                  0.0   \n",
            "\n",
            "   total_grammy_nominations  \n",
            "0                       0.0  \n",
            "1                       0.0  \n",
            "2                       0.0  \n",
            "3                       0.0  \n",
            "4                       0.0  \n",
            "\n",
            "[5 rows x 28 columns]\n"
          ]
        }
      ]
    },
    {
      "cell_type": "code",
      "source": [
        "print(df.columns)"
      ],
      "metadata": {
        "colab": {
          "base_uri": "https://localhost:8080/"
        },
        "id": "gywm31vzH0wG",
        "outputId": "89a31f80-d9e9-45fb-8a43-0267e6d63b7b"
      },
      "execution_count": 34,
      "outputs": [
        {
          "output_type": "stream",
          "name": "stdout",
          "text": [
            "Index(['id', 'name', 'album', 'album_id', 'artists', 'artist_ids',\n",
            "       'track_number', 'disc_number', 'explicit', 'danceability', 'energy',\n",
            "       'key', 'loudness', 'mode', 'speechiness', 'acousticness',\n",
            "       'instrumentalness', 'liveness', 'valence', 'tempo', 'duration_ms',\n",
            "       'time_signature', 'year', 'release_date', 'release_date_parsed',\n",
            "       'duration_min', 'total_grammy_awards', 'total_grammy_nominations'],\n",
            "      dtype='object')\n"
          ]
        }
      ]
    },
    {
      "cell_type": "code",
      "source": [
        "print(df[\"liveness\"])"
      ],
      "metadata": {
        "colab": {
          "base_uri": "https://localhost:8080/"
        },
        "collapsed": true,
        "id": "U68KR223jmc_",
        "outputId": "55e92c49-16f0-4425-e48b-179daec83a74"
      },
      "execution_count": 42,
      "outputs": [
        {
          "output_type": "stream",
          "name": "stdout",
          "text": [
            "0          0.3560\n",
            "1          0.1550\n",
            "2          0.1220\n",
            "3          0.1210\n",
            "4          0.0789\n",
            "            ...  \n",
            "1204023    0.3370\n",
            "1204024    0.0749\n",
            "1204025    0.0664\n",
            "1204026    0.1170\n",
            "1204027    0.2790\n",
            "Name: liveness, Length: 1204028, dtype: float64\n"
          ]
        }
      ]
    },
    {
      "cell_type": "code",
      "source": [
        "# Engineer date features\n",
        "\n",
        "# Convert 'release_date' to datetime\n",
        "df['release_date_parsed'] = pd.to_datetime(df['release_date_parsed'], errors='coerce')\n",
        "\n",
        "# Extract features from 'release_date'\n",
        "df['release_year'] = df['release_date_parsed'].dt.year\n",
        "df['release_month'] = df['release_date_parsed'].dt.month\n",
        "df['release_day'] = df['release_date_parsed'].dt.day\n",
        "\n",
        "# Adding release day of week feature (Monday = 0 , Sunday = 6)\n",
        "df['release_weekday'] = df['release_date_parsed'].dt.weekday\n",
        "\n",
        "# Drop unnecessary columns\n",
        "df = df.drop(columns=['release_date', 'year', 'release_date_parsed'])"
      ],
      "metadata": {
        "id": "Y7J6wGgOID01"
      },
      "execution_count": 43,
      "outputs": []
    },
    {
      "cell_type": "code",
      "source": [
        "# Transform explicit feature into binary 0/1\n",
        "df['explicit'] = df['explicit'].astype(int)\n",
        "\n",
        "# Transform mode feature into binary 0/1\n",
        "df['mode'] = df['mode'].astype(int)"
      ],
      "metadata": {
        "id": "RLiVOjSepls3"
      },
      "execution_count": 44,
      "outputs": []
    },
    {
      "cell_type": "code",
      "source": [
        "# Creating target variable (popularity)\n",
        "df[\"popularity\"] = df[\"total_grammy_awards\"] + df[\"total_grammy_nominations\"]\n",
        "\n",
        "# Removing original columns\n",
        "df.drop(columns=[\"total_grammy_awards\", \"total_grammy_nominations\"], inplace=True)"
      ],
      "metadata": {
        "id": "pL7eCfkP4Z1t"
      },
      "execution_count": 45,
      "outputs": []
    },
    {
      "cell_type": "code",
      "source": [
        "# Remove highly correlated features\n",
        "\n",
        "import numpy as np\n",
        "from sklearn.model_selection import train_test_split\n",
        "from sklearn.preprocessing import StandardScaler\n",
        "\n",
        "# Separate features and target\n",
        "X = df.drop(columns=[\"popularity\"])\n",
        "y = df[\"popularity\"]\n",
        "\n",
        "# Identify non-numeric columns\n",
        "non_numeric_cols = X.select_dtypes(include=['object']).columns\n",
        "print(\"Non-numeric columns:\", non_numeric_cols)\n",
        "\n",
        "# Remove identifier columns\n",
        "X = X.drop(columns=['id', 'name', 'album', 'album_id', 'artists', 'artist_ids'])\n",
        "\n",
        "# Compute correlation matrix\n",
        "corr_matrix = X.corr().abs()\n",
        "\n",
        "# Identify highly correlated features (above 0.85 threshold)\n",
        "threshold = 0.85\n",
        "high_corr_features = set()\n",
        "\n",
        "for i in range(len(corr_matrix.columns)):\n",
        "    for j in range(i):\n",
        "        if corr_matrix.iloc[i, j] > threshold:\n",
        "            colname = corr_matrix.columns[i]\n",
        "            high_corr_features.add(colname)\n",
        "\n",
        "# Drop correlated features\n",
        "X_filtered = X.drop(columns=high_corr_features)\n",
        "print(\"Remaining features after correlation filter:\", X_filtered.columns)"
      ],
      "metadata": {
        "colab": {
          "base_uri": "https://localhost:8080/"
        },
        "id": "bAo8p3t_xVTl",
        "outputId": "55e759fd-93fe-4f70-d707-3d3e9b2e2d4d"
      },
      "execution_count": 46,
      "outputs": [
        {
          "output_type": "stream",
          "name": "stdout",
          "text": [
            "Non-numeric columns: Index(['id', 'name', 'album', 'album_id', 'artists', 'artist_ids'], dtype='object')\n",
            "Remaining features after correlation filter: Index(['track_number', 'disc_number', 'explicit', 'danceability', 'energy',\n",
            "       'key', 'loudness', 'mode', 'speechiness', 'acousticness',\n",
            "       'instrumentalness', 'liveness', 'valence', 'tempo', 'duration_ms',\n",
            "       'time_signature', 'release_year', 'release_month', 'release_day',\n",
            "       'release_weekday'],\n",
            "      dtype='object')\n"
          ]
        }
      ]
    },
    {
      "cell_type": "code",
      "source": [
        "# Removing missing values\n",
        "\n",
        "# Drop rows with NaNs in both X and y\n",
        "\n",
        "X_filtered = X_filtered.dropna(subset=['release_year', 'release_month', 'release_day', 'release_weekday'])\n",
        "X_filtered, y = X_filtered.align(y, join=\"inner\", axis=0)\n",
        "\n",
        "print(X_filtered.isnull().sum())"
      ],
      "metadata": {
        "colab": {
          "base_uri": "https://localhost:8080/"
        },
        "id": "-G03GHq-f09T",
        "outputId": "02d149f0-eb5f-47f3-ef4c-f8f83b180be1"
      },
      "execution_count": 47,
      "outputs": [
        {
          "output_type": "stream",
          "name": "stdout",
          "text": [
            "track_number        0\n",
            "disc_number         0\n",
            "explicit            0\n",
            "danceability        0\n",
            "energy              0\n",
            "key                 0\n",
            "loudness            0\n",
            "mode                0\n",
            "speechiness         0\n",
            "acousticness        0\n",
            "instrumentalness    0\n",
            "liveness            0\n",
            "valence             0\n",
            "tempo               0\n",
            "duration_ms         0\n",
            "time_signature      0\n",
            "release_year        0\n",
            "release_month       0\n",
            "release_day         0\n",
            "release_weekday     0\n",
            "dtype: int64\n"
          ]
        }
      ]
    },
    {
      "cell_type": "code",
      "source": [
        "# Lasso Regression for Feature Selection\n",
        "\n",
        "from sklearn.linear_model import Lasso, LassoCV\n",
        "from sklearn.preprocessing import StandardScaler\n",
        "\n",
        "# Standardize the features\n",
        "scaler = StandardScaler()\n",
        "X_scaled = scaler.fit_transform(X_filtered)\n",
        "\n",
        "# Apply cross validation to tune alpha\n",
        "lasso_cv = LassoCV(alphas=np.logspace(-4, 1, 10), cv=5)\n",
        "lasso_cv.fit(X_scaled, y)\n",
        "\n",
        "# Get the best alpha value\n",
        "best_alpha = lasso_cv.alpha_\n",
        "print(\"Optimal Alpha from LassoCV:\", best_alpha)\n",
        "\n",
        "# Fit Lasso using the optimal alpha\n",
        "lasso = Lasso(alpha=best_alpha)\n",
        "lasso.fit(X_scaled, y)\n",
        "\n",
        "# Get selected features (non-zero coefficients)\n",
        "selected_features = X_filtered.columns[lasso.coef_ != 0]\n",
        "X_lasso_selected = X_filtered[selected_features]\n",
        "\n",
        "print(\"Selected features after Lasso:\", selected_features)"
      ],
      "metadata": {
        "colab": {
          "base_uri": "https://localhost:8080/"
        },
        "id": "JYOWOgtj1SaZ",
        "outputId": "01526b51-30aa-4436-a66b-61a5f140938a"
      },
      "execution_count": 48,
      "outputs": [
        {
          "output_type": "stream",
          "name": "stdout",
          "text": [
            "Optimal Alpha from LassoCV: 0.0001\n",
            "Selected features after Lasso: Index(['track_number', 'disc_number', 'explicit', 'danceability', 'energy',\n",
            "       'key', 'loudness', 'mode', 'speechiness', 'acousticness',\n",
            "       'instrumentalness', 'liveness', 'valence', 'tempo', 'duration_ms',\n",
            "       'time_signature', 'release_year', 'release_month', 'release_day',\n",
            "       'release_weekday'],\n",
            "      dtype='object')\n"
          ]
        }
      ]
    },
    {
      "cell_type": "code",
      "source": [
        "# Use RFE to Refine Feature Selection (choosing an optimal number of features)\n",
        "\n",
        "from sklearn.feature_selection import RFECV\n",
        "from sklearn.linear_model import LinearRegression\n",
        "\n",
        "# Initialize RFECV with cross-validation\n",
        "estimator = LinearRegression()\n",
        "rfecv = RFECV(estimator, cv=5)\n",
        "X_rfecv_selected = rfecv.fit_transform(X_lasso_selected, y)\n",
        "\n",
        "# Get the best number of features\n",
        "optimal_features = sum(rfecv.support_)\n",
        "print(\"Optimal number of features:\", optimal_features)\n",
        "\n",
        "# Get the selected feature names\n",
        "selected_features_rfecv = X_lasso_selected.columns[rfecv.support_]\n",
        "print(\"Selected features after RFECV:\", selected_features_rfecv)"
      ],
      "metadata": {
        "colab": {
          "base_uri": "https://localhost:8080/"
        },
        "id": "Z2LTNAyu1Yli",
        "outputId": "2cefdc6c-b129-4cbf-9919-dc5affada7de"
      },
      "execution_count": 49,
      "outputs": [
        {
          "output_type": "stream",
          "name": "stdout",
          "text": [
            "Optimal number of features: 17\n",
            "Selected features after RFECV: Index(['track_number', 'disc_number', 'explicit', 'danceability', 'energy',\n",
            "       'loudness', 'mode', 'speechiness', 'acousticness', 'instrumentalness',\n",
            "       'liveness', 'valence', 'time_signature', 'release_year',\n",
            "       'release_month', 'release_day', 'release_weekday'],\n",
            "      dtype='object')\n"
          ]
        }
      ]
    },
    {
      "cell_type": "code",
      "source": [
        "import pandas as pd\n",
        "\n",
        "# Convert the transformed NumPy array back to a DataFrame with the selected feature names\n",
        "X_rfecv_selected_df = pd.DataFrame(X_rfecv_selected, columns=selected_features_rfecv)\n",
        "\n",
        "# This is the final refined feature set to be used for further feature engineering\n",
        "print(\"Final shape of X_rfecv_selected_df:\", X_rfecv_selected_df.shape)"
      ],
      "metadata": {
        "colab": {
          "base_uri": "https://localhost:8080/"
        },
        "id": "eFUy5ev7EQ04",
        "outputId": "0aa991a7-2bc3-42c0-c900-8614bb5dabc5"
      },
      "execution_count": 50,
      "outputs": [
        {
          "output_type": "stream",
          "name": "stdout",
          "text": [
            "Final shape of X_rfecv_selected_df: (1204018, 17)\n"
          ]
        }
      ]
    },
    {
      "cell_type": "code",
      "source": [
        "# Check how many polynomial features are needed\n",
        "\n",
        "from sklearn.linear_model import LassoCV\n",
        "from sklearn.preprocessing import PolynomialFeatures\n",
        "\n",
        "# Generate polynomial features\n",
        "poly = PolynomialFeatures(degree=2, interaction_only=False, include_bias=False)\n",
        "X_poly = poly.fit_transform(X_rfecv_selected_df)\n",
        "\n",
        "# Fit LassoCV to determine if new features are useful\n",
        "lasso_cv = LassoCV(cv=5).fit(X_poly, y)\n",
        "\n",
        "# Count selected polynomial features\n",
        "num_selected = sum(lasso_cv.coef_ != 0)\n",
        "\n",
        "print(f\"Number of useful polynomial features: {num_selected}\")"
      ],
      "metadata": {
        "colab": {
          "base_uri": "https://localhost:8080/"
        },
        "id": "75Z15naf8ayK",
        "outputId": "d7d7b98c-2f58-46dd-89dd-84832e93e18c"
      },
      "execution_count": 51,
      "outputs": [
        {
          "output_type": "stream",
          "name": "stdout",
          "text": [
            "Number of useful polynomial features: 12\n"
          ]
        }
      ]
    },
    {
      "cell_type": "code",
      "source": [
        "# Identifying useful polynomial features\n",
        "\n",
        "import numpy as np\n",
        "import pandas as pd\n",
        "from sklearn.linear_model import LassoCV\n",
        "from sklearn.preprocessing import PolynomialFeatures\n",
        "\n",
        "# Generate polynomial features\n",
        "poly = PolynomialFeatures(degree=2, interaction_only=False, include_bias=False)\n",
        "X_poly = poly.fit_transform(X_rfecv_selected_df)\n",
        "\n",
        "# Fit LassoCV to determine if new features are useful\n",
        "lasso_cv = LassoCV(cv=5).fit(X_poly, y)\n",
        "\n",
        "# Get the original and polynomial feature names\n",
        "feature_names = poly.get_feature_names_out(X_rfecv_selected_df.columns)\n",
        "\n",
        "# Identify selected polynomial features\n",
        "selected_poly_features = np.array(feature_names)[lasso_cv.coef_ != 0]\n",
        "\n",
        "print(f\"Selected Polynomial Features ({len(selected_poly_features)}):\")\n",
        "print(selected_poly_features)"
      ],
      "metadata": {
        "id": "fWnF-uTSlFhk",
        "colab": {
          "base_uri": "https://localhost:8080/"
        },
        "outputId": "4d304f5a-8e8a-4168-801f-256d57e46ffe"
      },
      "execution_count": 52,
      "outputs": [
        {
          "output_type": "stream",
          "name": "stdout",
          "text": [
            "Selected Polynomial Features (12):\n",
            "['track_number release_year' 'disc_number release_year'\n",
            " 'energy release_year' 'loudness release_year' 'mode release_year'\n",
            " 'acousticness release_year' 'instrumentalness release_year'\n",
            " 'liveness release_year' 'release_year^2' 'release_year release_month'\n",
            " 'release_year release_day' 'release_year release_weekday']\n"
          ]
        }
      ]
    },
    {
      "cell_type": "code",
      "source": [
        "# Adding polynomial features in\n",
        "\n",
        "# Create a DataFrame for polynomial features\n",
        "X_poly_df = pd.DataFrame(X_poly, columns=poly.get_feature_names_out(X_rfecv_selected_df.columns), index=X_rfecv_selected_df.index)\n",
        "\n",
        "# Keep only the selected polynomial features\n",
        "X_selected_poly = X_poly_df[selected_poly_features]\n",
        "\n",
        "# Concatenate with original features\n",
        "X_final = pd.concat([X_rfecv_selected_df, X_selected_poly], axis=1)\n",
        "\n",
        "print(\"Final feature set shape:\", X_final.shape)"
      ],
      "metadata": {
        "id": "Rd8CP9E9m7Y6",
        "colab": {
          "base_uri": "https://localhost:8080/"
        },
        "outputId": "942733fc-f933-4956-fe28-f3a8ddbebde5"
      },
      "execution_count": 53,
      "outputs": [
        {
          "output_type": "stream",
          "name": "stdout",
          "text": [
            "Final feature set shape: (1204018, 29)\n"
          ]
        }
      ]
    },
    {
      "cell_type": "code",
      "source": [
        "import matplotlib.pyplot as plt\n",
        "from sklearn.decomposition import PCA\n",
        "\n",
        "# Fit PCA\n",
        "pca = PCA()\n",
        "pca.fit(X_final)\n",
        "\n",
        "# Plot cumulative explained variance\n",
        "plt.figure(figsize=(10, 6))\n",
        "plt.plot(range(1, len(pca.explained_variance_ratio_) + 1),\n",
        "         np.cumsum(pca.explained_variance_ratio_), marker='o')\n",
        "plt.title('Cumulative Explained Variance by Principal Components')\n",
        "plt.xlabel('Number of Components')\n",
        "plt.ylabel('Cumulative Explained Variance')\n",
        "plt.grid()\n",
        "plt.axhline(y=0.90, color='r', linestyle='--')  # Example threshold for 90%\n",
        "plt.show()"
      ],
      "metadata": {
        "colab": {
          "base_uri": "https://localhost:8080/",
          "height": 423
        },
        "id": "ByZiv_F3mPVk",
        "outputId": "7365f107-3b21-4bc5-c925-13b426b0cb89"
      },
      "execution_count": 54,
      "outputs": [
        {
          "output_type": "display_data",
          "data": {
            "text/plain": [
              "<Figure size 1000x600 with 1 Axes>"
            ],
            "image/png": "[encoded data removed]"
          },
          "metadata": {}
        }
      ]
    },
    {
      "cell_type": "code",
      "source": [
        "from sklearn.decomposition import PCA\n",
        "import pandas as pd\n",
        "\n",
        "# Fit PCA to feature set\n",
        "pca = PCA(n_components=6)\n",
        "X_pca = pca.fit_transform(X_final)\n",
        "\n",
        "# Create a DataFrame for the PCA loadings\n",
        "loadings = pd.DataFrame(pca.components_, columns=X_final.columns, index=[f'PC{i+1}' for i in range(pca.n_components_)])\n",
        "\n",
        "# Display the loadings\n",
        "print(\"PCA Loadings:\\n\", loadings)\n",
        "\n",
        "# Choose threshold to select features for each PC\n",
        "threshold = 0.1\n",
        "selected_features = []\n",
        "\n",
        "for i in range(loadings.shape[0]):\n",
        "    pc_loadings = loadings.iloc[i]\n",
        "    significant_features = pc_loadings[abs(pc_loadings) > threshold].index.tolist()\n",
        "    selected_features.extend(significant_features)\n",
        "\n",
        "# Remove duplicates\n",
        "selected_features = list(set(selected_features))\n",
        "\n",
        "print(\"Selected features based on PCA loadings:\", selected_features)"
      ],
      "metadata": {
        "colab": {
          "base_uri": "https://localhost:8080/"
        },
        "collapsed": true,
        "id": "69feKNlRmYk4",
        "outputId": "9ae519df-c25f-4825-a4e7-57650ec0aa59"
      },
      "execution_count": 59,
      "outputs": [
        {
          "output_type": "stream",
          "name": "stdout",
          "text": [
            "PCA Loadings:\n",
            "      track_number   disc_number      explicit  danceability        energy  \\\n",
            "PC1     -0.000006 -2.705764e-07  9.970009e-07  4.081718e-07  1.266395e-06   \n",
            "PC2     -0.000005 -6.502316e-09  5.453692e-07  5.123339e-07  1.141355e-06   \n",
            "PC3     -0.000197 -1.673159e-06  2.084024e-06  4.562197e-06  1.573060e-05   \n",
            "PC4      0.000457 -1.254133e-06  1.102454e-06  2.209086e-06  6.639850e-06   \n",
            "PC5     -0.000006  1.053285e-06  1.390782e-06  5.763729e-08  5.656067e-08   \n",
            "PC6      0.000001 -6.652384e-07  2.235112e-06  6.868475e-07  2.617854e-07   \n",
            "\n",
            "     loudness          mode   speechiness  acousticness  instrumentalness  \\\n",
            "PC1  0.000036 -6.877489e-07  1.858161e-07 -1.709908e-06     -1.596610e-07   \n",
            "PC2  0.000032  4.533322e-08  1.054494e-07 -1.203413e-06     -8.619820e-07   \n",
            "PC3  0.000454  3.279468e-07  2.123091e-07 -1.690071e-05     -9.849580e-06   \n",
            "PC4  0.000197  6.444553e-07  6.883033e-07 -6.270232e-06     -4.928886e-06   \n",
            "PC5  0.000002 -1.499246e-07  1.591638e-07 -1.017820e-07     -3.025812e-07   \n",
            "PC6  0.000003 -1.243578e-06 -1.277571e-08 -1.336475e-06     -2.020195e-06   \n",
            "\n",
            "     ...  energy release_year  loudness release_year  mode release_year  \\\n",
            "PC1  ...             0.002653               0.068854          -0.001209   \n",
            "PC2  ...             0.002277               0.064586           0.000056   \n",
            "PC3  ...             0.031567               0.911939           0.000641   \n",
            "PC4  ...             0.013323               0.395406           0.001289   \n",
            "PC5  ...             0.000118               0.004670          -0.000314   \n",
            "PC6  ...             0.000576               0.007369          -0.002531   \n",
            "\n",
            "     acousticness release_year  instrumentalness release_year  \\\n",
            "PC1                  -0.003301                      -0.000255   \n",
            "PC2                  -0.002450                      -0.001742   \n",
            "PC3                  -0.033935                      -0.019770   \n",
            "PC4                  -0.012589                      -0.009889   \n",
            "PC5                  -0.000224                      -0.000613   \n",
            "PC6                  -0.002774                      -0.004076   \n",
            "\n",
            "     liveness release_year  release_year^2  release_year release_month  \\\n",
            "PC1              -0.000056        0.981147                    0.053815   \n",
            "PC2               0.000616       -0.180993                    0.104828   \n",
            "PC3               0.003121       -0.054612                   -0.019516   \n",
            "PC4               0.002620       -0.014671                    0.006128   \n",
            "PC5               0.000843       -0.034597                    0.992236   \n",
            "PC6               0.000007       -0.013902                    0.034031   \n",
            "\n",
            "     release_year release_day  release_year release_weekday  \n",
            "PC1                  0.171801                      0.007873  \n",
            "PC2                  0.975324                     -0.026114  \n",
            "PC3                 -0.073353                     -0.004769  \n",
            "PC4                 -0.019113                     -0.004830  \n",
            "PC5                 -0.114371                     -0.031999  \n",
            "PC6                  0.020031                      0.999078  \n",
            "\n",
            "[6 rows x 29 columns]\n",
            "Selected features based on PCA loadings: ['release_year release_day', 'release_year^2', 'loudness release_year', 'release_year release_month', 'release_year release_weekday', 'track_number release_year']\n"
          ]
        }
      ]
    }
  ]
}
